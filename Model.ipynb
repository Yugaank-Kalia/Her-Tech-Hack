{
 "cells": [
  {
   "cell_type": "markdown",
   "metadata": {
    "collapsed": true
   },
   "source": [
    "## Import Packages"
   ]
  },
  {
   "cell_type": "code",
   "execution_count": 23,
   "metadata": {},
   "outputs": [],
   "source": [
    "import pandas as pd\n",
    "import numpy as np\n",
    "import random as rnd"
   ]
  },
  {
   "cell_type": "code",
   "execution_count": 24,
   "metadata": {},
   "outputs": [],
   "source": [
    "from sklearn.linear_model import LogisticRegression\n",
    "from sklearn.svm import SVC, LinearSVC\n",
    "from sklearn.ensemble import RandomForestClassifier\n",
    "from sklearn.neighbors import KNeighborsClassifier\n",
    "from sklearn.naive_bayes import GaussianNB # Gaussian Naive Bays\n",
    "from sklearn.linear_model import Perceptron\n",
    "from sklearn.linear_model import SGDClassifier #stochastic gradient descent\n",
    "from sklearn.tree import DecisionTreeClassifier"
   ]
  },
  {
   "cell_type": "code",
   "execution_count": 25,
   "metadata": {},
   "outputs": [],
   "source": [
    "import xgboost as xgb"
   ]
  },
  {
   "cell_type": "code",
   "execution_count": 26,
   "metadata": {},
   "outputs": [],
   "source": [
    "data = pd.read_csv('data.csv')"
   ]
  },
  {
   "cell_type": "code",
   "execution_count": 27,
   "metadata": {},
   "outputs": [
    {
     "data": {
      "text/html": [
       "<div>\n",
       "<style scoped>\n",
       "    .dataframe tbody tr th:only-of-type {\n",
       "        vertical-align: middle;\n",
       "    }\n",
       "\n",
       "    .dataframe tbody tr th {\n",
       "        vertical-align: top;\n",
       "    }\n",
       "\n",
       "    .dataframe thead th {\n",
       "        text-align: right;\n",
       "    }\n",
       "</style>\n",
       "<table border=\"1\" class=\"dataframe\">\n",
       "  <thead>\n",
       "    <tr style=\"text-align: right;\">\n",
       "      <th></th>\n",
       "      <th>Unnamed: 0</th>\n",
       "      <th>Number of Users</th>\n",
       "      <th>Number of months in operation</th>\n",
       "      <th>Company Type</th>\n",
       "      <th>Number of Founders</th>\n",
       "      <th>Revenue</th>\n",
       "      <th>Monthly User Growth</th>\n",
       "      <th>Customer Retention Rate</th>\n",
       "      <th>Profit Margin</th>\n",
       "      <th>Customer Aquisition Cost</th>\n",
       "      <th>...</th>\n",
       "      <th>Major Rival</th>\n",
       "      <th>Number of News Articles</th>\n",
       "      <th>Number of Founded Organizations</th>\n",
       "      <th>Number of Portfolio Companies</th>\n",
       "      <th>Number of Investments_x</th>\n",
       "      <th>Number of Partner Investments</th>\n",
       "      <th>Number of Lead Investments_x</th>\n",
       "      <th>Number of Exits_x</th>\n",
       "      <th>Number of Events_x</th>\n",
       "      <th>Success</th>\n",
       "    </tr>\n",
       "  </thead>\n",
       "  <tbody>\n",
       "    <tr>\n",
       "      <th>0</th>\n",
       "      <td>0</td>\n",
       "      <td>14445</td>\n",
       "      <td>12</td>\n",
       "      <td>1</td>\n",
       "      <td>4</td>\n",
       "      <td>7130.890537</td>\n",
       "      <td>130.730896</td>\n",
       "      <td>89.751934</td>\n",
       "      <td>25.849050</td>\n",
       "      <td>8.802067</td>\n",
       "      <td>...</td>\n",
       "      <td>0.0</td>\n",
       "      <td>14445</td>\n",
       "      <td>7</td>\n",
       "      <td>11</td>\n",
       "      <td>21</td>\n",
       "      <td>0</td>\n",
       "      <td>9</td>\n",
       "      <td>6</td>\n",
       "      <td>2</td>\n",
       "      <td>1</td>\n",
       "    </tr>\n",
       "    <tr>\n",
       "      <th>1</th>\n",
       "      <td>1</td>\n",
       "      <td>100</td>\n",
       "      <td>12</td>\n",
       "      <td>1</td>\n",
       "      <td>4</td>\n",
       "      <td>6904.105089</td>\n",
       "      <td>66.921713</td>\n",
       "      <td>47.882800</td>\n",
       "      <td>-7.510607</td>\n",
       "      <td>6.373854</td>\n",
       "      <td>...</td>\n",
       "      <td>1.0</td>\n",
       "      <td>100</td>\n",
       "      <td>2</td>\n",
       "      <td>1</td>\n",
       "      <td>1</td>\n",
       "      <td>0</td>\n",
       "      <td>0</td>\n",
       "      <td>0</td>\n",
       "      <td>1</td>\n",
       "      <td>1</td>\n",
       "    </tr>\n",
       "    <tr>\n",
       "      <th>2</th>\n",
       "      <td>2</td>\n",
       "      <td>19678</td>\n",
       "      <td>11</td>\n",
       "      <td>1</td>\n",
       "      <td>5</td>\n",
       "      <td>11529.622173</td>\n",
       "      <td>158.987732</td>\n",
       "      <td>56.367509</td>\n",
       "      <td>16.227640</td>\n",
       "      <td>1.292668</td>\n",
       "      <td>...</td>\n",
       "      <td>0.0</td>\n",
       "      <td>19678</td>\n",
       "      <td>10</td>\n",
       "      <td>6</td>\n",
       "      <td>7</td>\n",
       "      <td>0</td>\n",
       "      <td>0</td>\n",
       "      <td>0</td>\n",
       "      <td>5</td>\n",
       "      <td>1</td>\n",
       "    </tr>\n",
       "    <tr>\n",
       "      <th>3</th>\n",
       "      <td>3</td>\n",
       "      <td>128</td>\n",
       "      <td>9</td>\n",
       "      <td>1</td>\n",
       "      <td>2</td>\n",
       "      <td>9321.533079</td>\n",
       "      <td>175.694434</td>\n",
       "      <td>81.891315</td>\n",
       "      <td>2.532812</td>\n",
       "      <td>8.548581</td>\n",
       "      <td>...</td>\n",
       "      <td>0.0</td>\n",
       "      <td>128</td>\n",
       "      <td>1</td>\n",
       "      <td>6</td>\n",
       "      <td>7</td>\n",
       "      <td>0</td>\n",
       "      <td>0</td>\n",
       "      <td>1</td>\n",
       "      <td>5</td>\n",
       "      <td>1</td>\n",
       "    </tr>\n",
       "    <tr>\n",
       "      <th>4</th>\n",
       "      <td>4</td>\n",
       "      <td>861</td>\n",
       "      <td>2</td>\n",
       "      <td>0</td>\n",
       "      <td>3</td>\n",
       "      <td>5011.853851</td>\n",
       "      <td>94.574628</td>\n",
       "      <td>86.560395</td>\n",
       "      <td>12.014062</td>\n",
       "      <td>0.115313</td>\n",
       "      <td>...</td>\n",
       "      <td>1.0</td>\n",
       "      <td>861</td>\n",
       "      <td>1</td>\n",
       "      <td>0</td>\n",
       "      <td>0</td>\n",
       "      <td>0</td>\n",
       "      <td>0</td>\n",
       "      <td>0</td>\n",
       "      <td>0</td>\n",
       "      <td>1</td>\n",
       "    </tr>\n",
       "  </tbody>\n",
       "</table>\n",
       "<p>5 rows × 22 columns</p>\n",
       "</div>"
      ],
      "text/plain": [
       "   Unnamed: 0  Number of Users  Number of months in operation  Company Type  \\\n",
       "0           0            14445                             12             1   \n",
       "1           1              100                             12             1   \n",
       "2           2            19678                             11             1   \n",
       "3           3              128                              9             1   \n",
       "4           4              861                              2             0   \n",
       "\n",
       "   Number of Founders       Revenue  Monthly User Growth  \\\n",
       "0                   4   7130.890537           130.730896   \n",
       "1                   4   6904.105089            66.921713   \n",
       "2                   5  11529.622173           158.987732   \n",
       "3                   2   9321.533079           175.694434   \n",
       "4                   3   5011.853851            94.574628   \n",
       "\n",
       "   Customer Retention Rate  Profit Margin  Customer Aquisition Cost   ...     \\\n",
       "0                89.751934      25.849050                  8.802067   ...      \n",
       "1                47.882800      -7.510607                  6.373854   ...      \n",
       "2                56.367509      16.227640                  1.292668   ...      \n",
       "3                81.891315       2.532812                  8.548581   ...      \n",
       "4                86.560395      12.014062                  0.115313   ...      \n",
       "\n",
       "   Major Rival  Number of News Articles  Number of Founded Organizations  \\\n",
       "0          0.0                    14445                                7   \n",
       "1          1.0                      100                                2   \n",
       "2          0.0                    19678                               10   \n",
       "3          0.0                      128                                1   \n",
       "4          1.0                      861                                1   \n",
       "\n",
       "   Number of Portfolio Companies  Number of Investments_x  \\\n",
       "0                             11                       21   \n",
       "1                              1                        1   \n",
       "2                              6                        7   \n",
       "3                              6                        7   \n",
       "4                              0                        0   \n",
       "\n",
       "   Number of Partner Investments  Number of Lead Investments_x  \\\n",
       "0                              0                             9   \n",
       "1                              0                             0   \n",
       "2                              0                             0   \n",
       "3                              0                             0   \n",
       "4                              0                             0   \n",
       "\n",
       "   Number of Exits_x  Number of Events_x  Success  \n",
       "0                  6                   2        1  \n",
       "1                  0                   1        1  \n",
       "2                  0                   5        1  \n",
       "3                  1                   5        1  \n",
       "4                  0                   0        1  \n",
       "\n",
       "[5 rows x 22 columns]"
      ]
     },
     "execution_count": 27,
     "metadata": {},
     "output_type": "execute_result"
    }
   ],
   "source": [
    "data.head()"
   ]
  },
  {
   "cell_type": "code",
   "execution_count": 30,
   "metadata": {},
   "outputs": [
    {
     "name": "stdout",
     "output_type": "stream",
     "text": [
      "Feature vector shape= (18230, 15)\n",
      "Class shape= (18230,)\n"
     ]
    }
   ],
   "source": [
    "#Split the data to training and test datasets (0.8 and 0.2)\n",
    "\n",
    "from sklearn.model_selection import train_test_split\n",
    "\n",
    "X_data2 = data.iloc[:,:-1] \n",
    "Y_data2 = data['Success'] \n",
    "    \n",
    "print(\"Feature vector shape=\", X_data2.shape)\n",
    "print(\"Class shape=\", Y_data2.shape)"
   ]
  },
  {
   "cell_type": "code",
   "execution_count": 31,
   "metadata": {},
   "outputs": [],
   "source": [
    "x_train, x_test, y_train, y_test = train_test_split(X_data2, Y_data2, test_size = 0.2 , random_state=100)"
   ]
  },
  {
   "cell_type": "markdown",
   "metadata": {},
   "source": [
    "## Models"
   ]
  },
  {
   "cell_type": "markdown",
   "metadata": {
    "collapsed": true
   },
   "source": [
    "### XGBoost"
   ]
  },
  {
   "cell_type": "code",
   "execution_count": 32,
   "metadata": {},
   "outputs": [
    {
     "name": "stderr",
     "output_type": "stream",
     "text": [
      "/home/niladri/.local/lib/python3.6/site-packages/sklearn/preprocessing/label.py:151: DeprecationWarning: The truth value of an empty array is ambiguous. Returning False, but in future this will result in an error. Use `array.size > 0` to check that an array is not empty.\n",
      "  if diff:\n",
      "/home/niladri/.local/lib/python3.6/site-packages/sklearn/preprocessing/label.py:151: DeprecationWarning: The truth value of an empty array is ambiguous. Returning False, but in future this will result in an error. Use `array.size > 0` to check that an array is not empty.\n",
      "  if diff:\n"
     ]
    },
    {
     "name": "stdout",
     "output_type": "stream",
     "text": [
      "Train accuracy:  83.91\n",
      "Test accuracy:  76.49\n"
     ]
    },
    {
     "name": "stderr",
     "output_type": "stream",
     "text": [
      "/home/niladri/.local/lib/python3.6/site-packages/sklearn/preprocessing/label.py:151: DeprecationWarning: The truth value of an empty array is ambiguous. Returning False, but in future this will result in an error. Use `array.size > 0` to check that an array is not empty.\n",
      "  if diff:\n"
     ]
    }
   ],
   "source": [
    "# XGBoost\n",
    "\n",
    "gradboost = xgb.XGBClassifier(n_estimators=10000)\n",
    "gradboost.fit(x_train, y_train)\n",
    "y_pred_xgb = gradboost.predict(x_test)\n",
    "\n",
    "acc_gradboost_train = round(gradboost.score(x_train, y_train) * 100, 2)\n",
    "print(\"Train accuracy: \",acc_gradboost_train)\n",
    "\n",
    "acc_gradboost_test = round(gradboost.score(x_test,y_test) * 100, 2)\n",
    "print(\"Test accuracy: \",acc_gradboost_test)"
   ]
  },
  {
   "cell_type": "code",
   "execution_count": 33,
   "metadata": {
    "scrolled": true
   },
   "outputs": [
    {
     "name": "stdout",
     "output_type": "stream",
     "text": [
      "Average precision-recall score: 0.61\n"
     ]
    },
    {
     "data": {
      "text/plain": [
       "<Figure size 640x480 with 1 Axes>"
      ]
     },
     "metadata": {},
     "output_type": "display_data"
    }
   ],
   "source": [
    "# Calculate and plot average precision recall score\n",
    "\n",
    "from sklearn.metrics import average_precision_score\n",
    "y_pred = y_pred_xgb\n",
    "\n",
    "\n",
    "average_precision = average_precision_score(y_test, y_pred)\n",
    "\n",
    "print('Average precision-recall score: {0:0.2f}'.format(\n",
    "      average_precision))\n",
    "\n",
    "\n",
    "from sklearn.metrics import precision_recall_curve\n",
    "import matplotlib.pyplot as plt\n",
    "\n",
    "precision, recall, _ = precision_recall_curve(y_test, y_pred)\n",
    "\n",
    "plt.step(recall, precision, color='b', alpha=0.2,\n",
    "         where='post')\n",
    "plt.fill_between(recall, precision, step='post', alpha=0.2,\n",
    "                 color='b')\n",
    "\n",
    "plt.xlabel('Recall')\n",
    "plt.ylabel('Precision')\n",
    "plt.ylim([0.0, 1.05])\n",
    "plt.xlim([0.0, 1.0])\n",
    "plt.title('2-class Precision-Recall curve: AP={0:0.2f}'.format(\n",
    "          average_precision))\n",
    "plt.show()"
   ]
  },
  {
   "cell_type": "code",
   "execution_count": 34,
   "metadata": {},
   "outputs": [
    {
     "name": "stderr",
     "output_type": "stream",
     "text": [
      "/home/niladri/.local/lib/python3.6/site-packages/sklearn/preprocessing/label.py:151: DeprecationWarning: The truth value of an empty array is ambiguous. Returning False, but in future this will result in an error. Use `array.size > 0` to check that an array is not empty.\n",
      "  if diff:\n"
     ]
    },
    {
     "name": "stdout",
     "output_type": "stream",
     "text": [
      "0.8391387822270981\n"
     ]
    },
    {
     "data": {
      "image/png": "[encoded data removed]",
      "text/plain": [
       "<Figure size 432x288 with 1 Axes>"
      ]
     },
     "metadata": {},
     "output_type": "display_data"
    }
   ],
   "source": [
    "# Look at importnace of features for random forest\n",
    "\n",
    "def plot_model_var_imp( model , X , y ):\n",
    "    imp = pd.DataFrame( \n",
    "        model.feature_importances_  , \n",
    "        columns = [ 'Importance' ] , \n",
    "        index = X.columns \n",
    "    )\n",
    "    imp = imp.sort_values( [ 'Importance' ] , ascending = True )\n",
    "    imp[ : 10 ].plot( kind = 'barh' )\n",
    "    print (model.score( X , y ))\n",
    "\n",
    "plot_model_var_imp(gradboost, x_train, y_train)"
   ]
  },
  {
   "cell_type": "code",
   "execution_count": 35,
   "metadata": {},
   "outputs": [],
   "source": [
    "plt.show()"
   ]
  },
  {
   "cell_type": "code",
   "execution_count": 36,
   "metadata": {},
   "outputs": [],
   "source": [
    "from sklearn.metrics import average_precision_score\n",
    "# Define Roc curve\n",
    "\n",
    "from sklearn.metrics import roc_curve, auc\n",
    "from sklearn import datasets\n",
    "from sklearn.multiclass import OneVsRestClassifier\n",
    "from sklearn.svm import LinearSVC\n",
    "from sklearn.preprocessing import label_binarize\n",
    "import matplotlib.pyplot as plt\n",
    "from sklearn.ensemble import AdaBoostClassifier\n",
    "\n",
    "\n",
    "y_test = label_binarize(y_test, classes=[1,0])\n",
    "y_train = label_binarize(y_train, classes=[1,0])\n",
    "\n",
    "n_classes = y_train.shape[1]\n",
    "\n",
    "ovr = OneVsRestClassifier(gradboost)\n",
    "\n",
    "y_score = ovr.fit(x_train, y_train).predict_proba(x_test)\n",
    "\n",
    "# Compute ROC curve and ROC area for each class\n",
    "fpr = dict()\n",
    "tpr = dict()\n",
    "roc_auc = dict()\n",
    "for i in range(n_classes):\n",
    "    fpr[i], tpr[i], _ = roc_curve(y_test[:, i], y_score[:, i])\n",
    "    roc_auc[i] = auc(tpr[i], fpr[i])\n",
    "\n"
   ]
  },
  {
   "cell_type": "code",
   "execution_count": 37,
   "metadata": {},
   "outputs": [
    {
     "data": {
      "image/png": "[encoded data removed]",
      "text/plain": [
       "<Figure size 432x288 with 1 Axes>"
      ]
     },
     "metadata": {},
     "output_type": "display_data"
    }
   ],
   "source": [
    "# Plot  ROC \n",
    "\n",
    "for i in range(n_classes):\n",
    "    plt.figure()\n",
    "    plt.plot(tpr[i], fpr[i], label='ROC curve (area = %0.2f)' % roc_auc[i])\n",
    "    plt.plot([0, 1], [0, 1], 'k--')\n",
    "    plt.xlim([0.0, 1.0])\n",
    "    plt.ylim([0.0, 1.05])\n",
    "    plt.xlabel('False Positive Rate')\n",
    "    plt.ylabel('True Positive Rate')\n",
    "    plt.title('Receiver operating characteristic example')\n",
    "    plt.legend(loc=\"lower right\")\n",
    "    plt.show()"
   ]
  },
  {
   "cell_type": "markdown",
   "metadata": {},
   "source": [
    "### Random Forest"
   ]
  },
  {
   "cell_type": "code",
   "execution_count": 33,
   "metadata": {},
   "outputs": [
    {
     "name": "stderr",
     "output_type": "stream",
     "text": [
      "C:\\Anaconda\\envs\\Data-X\\lib\\site-packages\\ipykernel_launcher.py:4: DataConversionWarning: A column-vector y was passed when a 1d array was expected. Please change the shape of y to (n_samples,), for example using ravel().\n",
      "  after removing the cwd from sys.path.\n"
     ]
    },
    {
     "name": "stdout",
     "output_type": "stream",
     "text": [
      "Train accuracy:  94.08\n",
      "Test accuracy:  77.48\n"
     ]
    }
   ],
   "source": [
    "# Random Forest\n",
    "\n",
    "random_forest = RandomForestClassifier(n_estimators=1000)\n",
    "random_forest.fit(x_train, y_train)\n",
    "y_pred_rnf = random_forest.predict(x_test)\n",
    "random_forest.score(x_train, y_train)\n",
    "\n",
    "acc_random_forest_train = round(random_forest.score(x_train, y_train) * 100, 2)\n",
    "print(\"Train accuracy: \",acc_random_forest_train)\n",
    "\n",
    "acc_random_forest_test = round(random_forest.score(x_test,y_test) * 100, 2)\n",
    "print(\"Test accuracy: \",acc_random_forest_test)"
   ]
  },
  {
   "cell_type": "code",
   "execution_count": 33,
   "metadata": {},
   "outputs": [
    {
     "name": "stdout",
     "output_type": "stream",
     "text": [
      "Average precision-recall score: 0.76\n"
     ]
    },
    {
     "data": {
      "image/png": "[encoded data removed]",
      "text/plain": [
       "<matplotlib.figure.Figure at 0x22696d7cba8>"
      ]
     },
     "metadata": {},
     "output_type": "display_data"
    }
   ],
   "source": [
    "# Calculate and plot average precision recall score\n",
    "\n",
    "\n",
    "y_pred = y_pred_rnf\n",
    "average_precision = average_precision_score(y_test, y_pred)\n",
    "\n",
    "print('Average precision-recall score: {0:0.2f}'.form# Plot  ROC \n",
    "\n",
    "for i in range(n_classes):\n",
    "    plt.figure()\n",
    "    plt.plot(fpr[i], tpr[i], label='ROC curve (area = %0.2f)' % roc_auc[i])\n",
    "    plt.plot([0, 1], [0, 1], 'k--')\n",
    "    plt.xlim([0.0, 1.0])\n",
    "    plt.ylim([0.0, 1.05])\n",
    "    plt.xlabel('False Positive Rate')\n",
    "    plt.ylabel('True Positive Rate')\n",
    "    plt.title('Receiver operating characteristic example')\n",
    "    plt.legend(loc=\"lower right\")\n",
    "    plt.show()at(\n",
    "      average_precision))\n",
    "\n",
    "precision, recall, _ = precision_recall_curve(y_test, y_pred)\n",
    "\n",
    "plt.step(recall, precision, color='b', alpha=0.2,\n",
    "         where='post')\n",
    "plt.fill_between(recall, precision, step='post', alpha=0.2,\n",
    "                 color='b')\n",
    "\n",
    "plt.xlabel('Recall')\n",
    "plt.ylabel('Precision')\n",
    "plt.ylim([0.0, 1.05])\n",
    "plt.xlim([0.0, 1.0])\n",
    "plt.title('2-class Precision-Recall curve: AP={0:0.2f}'.format(\n",
    "          average_precision))\n",
    "plt.show()"
   ]
  },
  {
   "cell_type": "code",
   "execution_count": 34,
   "metadata": {},
   "outputs": [
    {
     "name": "stdout",
     "output_type": "stream",
     "text": [
      "0.94082556226\n"
     ]
    }
   ],
   "source": [
    "# Look at importnace of features for random forest\n",
    "\n",
    "def plot_model_var_imp( model , X , y ):\n",
    "    imp = pd.DataFrame( \n",
    "        model.feature_importances_  , \n",
    "        columns = [ 'Importance' ] , \n",
    "        index = X.columns \n",
    "    )\n",
    "    imp = imp.sort_values( [ 'Importance' ] , ascending = True )\n",
    "    imp[ : 10 ].plot( kind = 'barh' )\n",
    "    print (model.score( X , y ))\n",
    "\n",
    "plot_model_var_imp(random_forest, x_train, y_train)"
   ]
  },
  {
   "cell_type": "code",
   "execution_count": 35,
   "metadata": {
    "scrolled": false
   },
   "outputs": [
    {
     "data": {
      "image/png": "[encoded data removed]",
      "text/plain": [
       "<matplotlib.figure.Figure at 0x226f3a3ccf8>"
      ]
     },
     "metadata": {},
     "output_type": "display_data"
    }
   ],
   "source": [
    "plt.show()"
   ]
  },
  {
   "cell_type": "code",
   "execution_count": 34,
   "metadata": {
    "collapsed": true
   },
   "outputs": [],
   "source": [
    "# Define Roc curve\n",
    "\n",
    "y_test = label_binarize(y_test, classes=[1,0])\n",
    "y_train = label_binarize(y_train, classes=[1,0])\n",
    "\n",
    "n_classes = y_train.shape[1]\n",
    "\n",
    "ovr = OneVsRestClassifier(random_forest)\n",
    "\n",
    "y_score = ovr.fit(x_train, y_train).predict_proba(x_test)\n",
    "\n",
    "# Compute ROC curve and ROC area for each class\n",
    "fpr = dict()\n",
    "tpr = dict()\n",
    "roc_auc = dict()\n",
    "for i in range(n_classes):\n",
    "    fpr[i], tpr[i], _ = roc_curve(y_test[:, i], y_score[:, i])\n",
    "    roc_auc[i] = auc(tpr[i], fpr[i])\n",
    "\n"
   ]
  },
  {
   "cell_type": "code",
   "execution_count": 35,
   "metadata": {},
   "outputs": [
    {
     "data": {
      "image/png": "[encoded data removed]",
      "text/plain": [
       "<matplotlib.figure.Figure at 0x284a57ca898>"
      ]
     },
     "metadata": {},
     "output_type": "display_data"
    }
   ],
   "source": [
    "# Plot  ROC curve\n",
    "\n",
    "for i in range(n_classes):\n",
    "    plt.figure()\n",
    "    plt.plot(tpr[i], fpr[i], label='ROC curve (area = %0.2f)' % roc_auc[i])\n",
    "    plt.plot([0, 1], [0, 1], 'k--')\n",
    "    plt.xlim([0.0, 1.0])\n",
    "    plt.ylim([0.0, 1.05])\n",
    "    plt.xlabel('False Positive Rate')\n",
    "    plt.ylabel('True Positive Rate')\n",
    "    plt.title('Receiver operating characteristic example')\n",
    "    plt.legend(loc=\"lower right\")\n",
    "    plt.show()"
   ]
  },
  {
   "cell_type": "markdown",
   "metadata": {},
   "source": [
    "### Logistic Regression"
   ]
  },
  {
   "cell_type": "code",
   "execution_count": 81,
   "metadata": {},
   "outputs": [
    {
     "name": "stdout",
     "output_type": "stream",
     "text": [
      "Train accuracy:  60.98\n",
      "Test accuracy:  61.11\n"
     ]
    }
   ],
   "source": [
    "logreg = LogisticRegression()\n",
    "logreg.fit(x_train, y_train)\n",
    "y_pred_log = logreg.predict(x_test)\n",
    "\n",
    "acc_log_train = round(logreg.score(x_train, y_train) * 100, 2)\n",
    "print(\"Train accuracy: \",acc_log_train)\n",
    "\n",
    "acc_log_test = round(logreg.score(x_test,y_test) * 100, 2)\n",
    "print(\"Test accuracy: \",acc_log_test)"
   ]
  },
  {
   "cell_type": "code",
   "execution_count": 111,
   "metadata": {
    "scrolled": true
   },
   "outputs": [
    {
     "name": "stdout",
     "output_type": "stream",
     "text": [
      "Average precision-recall score: 0.50\n"
     ]
    },
    {
     "data": {
      "image/png": "[encoded data removed]",
      "text/plain": [
       "<matplotlib.figure.Figure at 0x29855348898>"
      ]
     },
     "metadata": {},
     "output_type": "display_data"
    }
   ],
   "source": [
    "# Calculate and plot average precision recall score\n",
    "\n",
    "y_pred = y_pred_log\n",
    "average_precision = average_precision_score(y_test, y_pred)\n",
    "\n",
    "print('Average precision-recall score: {0:0.2f}'.format(\n",
    "      average_precision))\n",
    "\n",
    "precision, recall, _ = precision_recall_curve(y_test, y_pred)\n",
    "\n",
    "plt.step(recall, precision, color='b', alpha=0.2,\n",
    "         where='post')\n",
    "plt.fill_between(recall, precision, step='post', alpha=0.2,\n",
    "                 color='b')\n",
    "\n",
    "plt.xlabel('Recall')\n",
    "plt.ylabel('Precision')\n",
    "plt.ylim([0.0, 1.05])\n",
    "plt.xlim([0.0, 1.0])\n",
    "plt.title('2-class Precision-Recall curve: AP={0:0.2f}'.format(\n",
    "          average_precision))\n",
    "plt.show()"
   ]
  },
  {
   "cell_type": "code",
   "execution_count": null,
   "metadata": {
    "collapsed": true
   },
   "outputs": [],
   "source": [
    "# Look at importnace of features for random forest\n",
    "\n",
    "def plot_model_var_imp( model , X , y ):\n",
    "    imp = pd.DataFrame( \n",
    "        model.feature_importances_  , \n",
    "        columns = [ 'Importance' ] , \n",
    "        index = X.columns \n",
    "    )\n",
    "    imp = imp.sort_values( [ 'Importance' ] , ascending = True )\n",
    "    imp[ : 10 ].plot( kind = 'barh' )\n",
    "    print (model.score( X , y ))\n",
    "\n",
    "plot_model_var_imp(logreg, x_train, y_train)"
   ]
  },
  {
   "cell_type": "code",
   "execution_count": null,
   "metadata": {
    "collapsed": true
   },
   "outputs": [],
   "source": [
    "plt.show()"
   ]
  },
  {
   "cell_type": "markdown",
   "metadata": {},
   "source": [
    "### Support Vector Machines"
   ]
  },
  {
   "cell_type": "code",
   "execution_count": 68,
   "metadata": {},
   "outputs": [
    {
     "name": "stdout",
     "output_type": "stream",
     "text": [
      "Train accuracy:  74.47\n",
      "Test accuracy:  74.85\n"
     ]
    }
   ],
   "source": [
    "svc = SVC()\n",
    "svc.fit(x_train, y_train)\n",
    "y_pred_svm = svc.predict(x_test)\n",
    "\n",
    "acc_svc_train = round(svc.score(x_train, y_train) * 100, 2)\n",
    "print(\"Train accuracy: \",acc_svc_train)\n",
    "\n",
    "acc_svc_test = round(svc.score(x_test,y_test) * 100, 2)\n",
    "print(\"Test accuracy: \",acc_svc_test)"
   ]
  },
  {
   "cell_type": "code",
   "execution_count": 112,
   "metadata": {
    "scrolled": true
   },
   "outputs": [
    {
     "name": "stdout",
     "output_type": "stream",
     "text": [
      "Average precision-recall score: 0.74\n"
     ]
    },
    {
     "data": {
      "image/png": "[encoded data removed]",
      "text/plain": [
       "<matplotlib.figure.Figure at 0x298559bd2e8>"
      ]
     },
     "metadata": {},
     "output_type": "display_data"
    }
   ],
   "source": [
    "# Calculate and plot average precision recall score\n",
    "\n",
    "y_pred = y_pred_svm\n",
    "average_precision = average_precision_score(y_test, y_pred)\n",
    "\n",
    "print('Average precision-recall score: {0:0.2f}'.format(\n",
    "      average_precision))\n",
    "\n",
    "precision, recall, _ = precision_recall_curve(y_test, y_pred)\n",
    "\n",
    "plt.step(recall, precision, color='b', alpha=0.2,\n",
    "         where='post')\n",
    "plt.fill_between(recall, precision, step='post', alpha=0.2,\n",
    "                 color='b')\n",
    "\n",
    "plt.xlabel('Recall')\n",
    "plt.ylabel('Precision')\n",
    "plt.ylim([0.0, 1.05])\n",
    "plt.xlim([0.0, 1.0])\n",
    "plt.title('2-class Precision-Recall curve: AP={0:0.2f}'.format(\n",
    "          average_precision))\n",
    "plt.show()"
   ]
  },
  {
   "cell_type": "markdown",
   "metadata": {},
   "source": [
    "### kNN"
   ]
  },
  {
   "cell_type": "code",
   "execution_count": 92,
   "metadata": {},
   "outputs": [
    {
     "name": "stdout",
     "output_type": "stream",
     "text": [
      "Training accuracy for kNN:  83.74\n",
      "Test accuracy for kNN:  72.71\n"
     ]
    }
   ],
   "source": [
    "# kNN\n",
    "\n",
    "knn = KNeighborsClassifier(n_neighbors = 3)\n",
    "knn.fit(x_train, y_train)\n",
    "y_pred = knn.predict(x_test)\n",
    "acc_knn = round(knn.score(x_train, y_train) * 100, 2)\n",
    "print('Training accuracy for kNN: ',acc_knn)\n",
    "acc_knn = round(knn.score(x_test, y_test) * 100, 2)\n",
    "print('Test accuracy for kNN: ',acc_knn)"
   ]
  },
  {
   "cell_type": "code",
   "execution_count": 93,
   "metadata": {},
   "outputs": [
    {
     "name": "stdout",
     "output_type": "stream",
     "text": [
      "Average precision-recall score: 0.72\n"
     ]
    },
    {
     "data": {
      "image/png": "[encoded data removed]",
      "text/plain": [
       "<matplotlib.figure.Figure at 0x29857befbe0>"
      ]
     },
     "metadata": {},
     "output_type": "display_data"
    }
   ],
   "source": [
    "# Calculate and plot average precision recal score\n",
    "\n",
    "average_precision = average_precision_score(y_test, y_pred)\n",
    "\n",
    "print('Average precision-recall score: {0:0.2f}'.format(\n",
    "      average_precision))\n",
    "\n",
    "precision, recall, _ = precision_recall_curve(y_test, y_pred)\n",
    "\n",
    "plt.step(recall, precision, color='b', alpha=0.2,\n",
    "         where='post')\n",
    "plt.fill_between(recall, precision, step='post', alpha=0.2,\n",
    "                 color='b')\n",
    "\n",
    "plt.xlabel('Recall')\n",
    "plt.ylabel('Precision')\n",
    "plt.ylim([0.0, 1.05])\n",
    "plt.xlim([0.0, 1.0])\n",
    "plt.title('2-class Precision-Recall curve: AP={0:0.2f}'.format(\n",
    "          average_precision))\n",
    "plt.show()"
   ]
  },
  {
   "cell_type": "markdown",
   "metadata": {},
   "source": [
    "# Alternative approach"
   ]
  },
  {
   "cell_type": "code",
   "execution_count": 36,
   "metadata": {
    "collapsed": true
   },
   "outputs": [],
   "source": [
    "data = pd.read_csv('founder_V0.3_founder.csv')"
   ]
  },
  {
   "cell_type": "code",
   "execution_count": 37,
   "metadata": {
    "collapsed": true
   },
   "outputs": [],
   "source": [
    "# Replace detailed role variable with binary variable\n",
    "\n",
    "data['Primary Job Title'] = data['Founder']"
   ]
  },
  {
   "cell_type": "code",
   "execution_count": 38,
   "metadata": {
    "collapsed": true
   },
   "outputs": [],
   "source": [
    "# Drop variables not to be used in our models\n",
    "\n",
    "data = data.drop(['Full Name','Bio','Founder'], axis=1)"
   ]
  },
  {
   "cell_type": "code",
   "execution_count": 39,
   "metadata": {
    "collapsed": true
   },
   "outputs": [],
   "source": [
    "# Encode multivalue categorical variables to unique integers\n",
    "from sklearn import preprocessing\n",
    "\n",
    "HQ = preprocessing.LabelEncoder()\n",
    "#to convert into numbers\n",
    "data['Headquarters Location '] = HQ.fit_transform(data['Headquarters Location '])\n",
    "\n",
    "CAT = preprocessing.LabelEncoder()\n",
    "#to convert into numbers\n",
    "data['Categories'] = CAT.fit_transform(data['Categories'])"
   ]
  },
  {
   "cell_type": "code",
   "execution_count": 40,
   "metadata": {
    "collapsed": true
   },
   "outputs": [],
   "source": [
    "# Normalize variables\n",
    "\n",
    "#data['Number of News Articles'] = data['Number of News Articles']/data['Number of News Articles'].max()\n",
    "\n",
    "#data['Number of Founded Organizations'] = data['Number of Founded Organizations']/data['Number of Founded Organizations'].max()\n",
    "\n",
    "#data['Number of Portfolio Companies'] = data['Number of Portfolio Companies']/data['Number of Portfolio Companies'].max()\n",
    "\n",
    "#data['Number of Investments_x'] = data['Number of Investments_x']/data['Number of Investments_x'].max()\n",
    "\n",
    "#data['Number of Partner Investments'] = data['Number of Partner Investments']/data['Number of Partner Investments'].max()\n",
    "\n",
    "#data['Number of Lead Investments_x'] = data['Number of Lead Investments_x']/data['Number of Lead Investments_x'].max()\n",
    "\n",
    "#data['Number of Exits_x'] = data['Number of Exits_x']/data['Number of Exits_x'].max()\n",
    "\n",
    "#data['Number of Events_x'] = data['Number of Events_x']/data['Number of Events_x'].max()\n",
    "\n",
    "#data['Number of Founders'] = data['Number of Founders']/data['Number of Founders'].max()\n",
    "\n",
    "#data['Headquarters Location '] = data['Headquarters Location ']/data['Headquarters Location '].max()"
   ]
  },
  {
   "cell_type": "code",
   "execution_count": 41,
   "metadata": {},
   "outputs": [
    {
     "name": "stdout",
     "output_type": "stream",
     "text": [
      "Feature vector shape= (18361, 17)\n",
      "Class shape= (18361,)\n"
     ]
    }
   ],
   "source": [
    "# Train test split\n",
    "\n",
    "X_data2 = data.iloc[:,:-1] \n",
    "Y_data2 = data['Success'] \n",
    "    \n",
    "print(\"Feature vector shape=\", X_data2.shape)\n",
    "print(\"Class shape=\", Y_data2.shape)\n",
    "\n",
    "x_train, x_test, y_train, y_test = train_test_split(X_data2, Y_data2, test_size = 0.2 , random_state=100)"
   ]
  },
  {
   "cell_type": "code",
   "execution_count": 42,
   "metadata": {},
   "outputs": [
    {
     "name": "stdout",
     "output_type": "stream",
     "text": [
      "Train accuracy:  95.6\n",
      "Test accuracy:  82.98\n"
     ]
    }
   ],
   "source": [
    "# XGBoost\n",
    "\n",
    "gradboost = xgb.XGBClassifier(n_estimators=10000)\n",
    "gradboost.fit(x_train, y_train)\n",
    "y_pred_xgb = gradboost.predict(x_test)\n",
    "\n",
    "acc_gradboost_train = round(gradboost.score(x_train, y_train) * 100, 2)\n",
    "print(\"Train accuracy: \",acc_gradboost_train)\n",
    "\n",
    "acc_gradboost_test = round(gradboost.score(x_test,y_test) * 100, 2)\n",
    "print(\"Test accuracy: \",acc_gradboost_test)"
   ]
  },
  {
   "cell_type": "code",
   "execution_count": 189,
   "metadata": {},
   "outputs": [
    {
     "name": "stdout",
     "output_type": "stream",
     "text": [
      "Average precision-recall score: 0.83\n"
     ]
    },
    {
     "data": {
      "image/png": "[encoded data removed]",
      "text/plain": [
       "<matplotlib.figure.Figure at 0x2028387be10>"
      ]
     },
     "metadata": {},
     "output_type": "display_data"
    }
   ],
   "source": [
    "# Calculate and plot average precision recall score\n",
    "\n",
    "y_pred = y_pred_xgb\n",
    "average_precision = average_precision_score(y_test, y_pred)\n",
    "\n",
    "print('Average precision-recall score: {0:0.2f}'.format(\n",
    "      average_precision))\n",
    "\n",
    "precision, recall, _ = precision_recall_curve(y_test, y_pred)\n",
    "\n",
    "plt.step(recall, precision, color='b', alpha=0.2,\n",
    "         where='post')\n",
    "plt.fill_between(recall, precision, step='post', alpha=0.2,\n",
    "                 color='b')\n",
    "\n",
    "plt.xlabel('Recall')\n",
    "plt.ylabel('Precision')\n",
    "plt.ylim([0.0, 1.05])\n",
    "plt.xlim([0.0, 1.0])\n",
    "plt.title('2-class Precision-Recall curve: AP={0:0.2f}'.format(\n",
    "          average_precision))\n",
    "plt.show()"
   ]
  },
  {
   "cell_type": "code",
   "execution_count": 190,
   "metadata": {},
   "outputs": [
    {
     "name": "stdout",
     "output_type": "stream",
     "text": [
      "0.95595043573\n"
     ]
    }
   ],
   "source": [
    "# Look at importnace of features for random forest\n",
    "\n",
    "def plot_model_var_imp( model , X , y ):\n",
    "    imp = pd.DataFrame( \n",
    "        model.feature_importances_  , \n",
    "        columns = [ 'Importance' ] , \n",
    "        index = X.columns \n",
    "    )\n",
    "    imp = imp.sort_values( [ 'Importance' ] , ascending = True )\n",
    "    imp[ : 10 ].plot( kind = 'barh' )\n",
    "    print (model.score( X , y ))\n",
    "\n",
    "plot_model_var_imp(gradboost, x_train, y_train)"
   ]
  },
  {
   "cell_type": "code",
   "execution_count": 191,
   "metadata": {},
   "outputs": [
    {
     "data": {
      "image/png": "[encoded data removed]",
      "text/plain": [
       "<matplotlib.figure.Figure at 0x20294a5f400>"
      ]
     },
     "metadata": {},
     "output_type": "display_data"
    }
   ],
   "source": [
    "plt.show()"
   ]
  },
  {
   "cell_type": "code",
   "execution_count": 63,
   "metadata": {
    "collapsed": true
   },
   "outputs": [],
   "source": [
    "# Define Roc curve\n",
    "\n",
    "y_test = label_binarize(y_test, classes=[1,0])\n",
    "y_train = label_binarize(y_train, classes=[1,0])\n",
    "\n",
    "n_classes = y_train.shape[1]\n",
    "\n",
    "ovr = OneVsRestClassifier(gradboost)\n",
    "\n",
    "y_score = ovr.fit(x_train, y_train).predict_proba(x_test)\n",
    "\n",
    "# Compute ROC curve and ROC area for each class\n",
    "fpr = dict()\n",
    "tpr = dict()\n",
    "roc_auc = dict()\n",
    "for i in range(n_classes):\n",
    "    fpr[i], tpr[i], _ = roc_curve(y_test[:, i], y_score[:, i])\n",
    "    roc_auc[i] = auc(tpr[i], fpr[i])\n",
    "\n"
   ]
  },
  {
   "cell_type": "code",
   "execution_count": 64,
   "metadata": {},
   "outputs": [
    {
     "data": {
      "image/png": "[encoded data removed]",
      "text/plain": [
       "<matplotlib.figure.Figure at 0x1d63a9da898>"
      ]
     },
     "metadata": {},
     "output_type": "display_data"
    }
   ],
   "source": [
    "# Plot  ROC curve\n",
    "\n",
    "for i in range(n_classes):\n",
    "    plt.figure()\n",
    "    plt.plot(tpr[i], fpr[i], label='ROC curve (area = %0.2f)' % roc_auc[i])\n",
    "    plt.plot([0, 1], [0, 1], 'k--')\n",
    "    plt.xlim([0.0, 1.0])\n",
    "    plt.ylim([0.0, 1.05])\n",
    "    plt.xlabel('False Positive Rate')\n",
    "    plt.ylabel('True Positive Rate')\n",
    "    plt.title('Receiver operating characteristic example')\n",
    "    plt.legend(loc=\"lower right\")\n",
    "    plt.show()"
   ]
  },
  {
   "cell_type": "markdown",
   "metadata": {},
   "source": [
    "### Random Forest"
   ]
  },
  {
   "cell_type": "code",
   "execution_count": 17,
   "metadata": {
    "scrolled": true
   },
   "outputs": [
    {
     "name": "stdout",
     "output_type": "stream",
     "text": [
      "Train accuracy:  99.96\n",
      "Test accuracy:  80.32\n"
     ]
    }
   ],
   "source": [
    "random_forest = RandomForestClassifier(n_estimators=10000)\n",
    "random_forest.fit(x_train, y_train)\n",
    "y_pred_rnf = random_forest.predict(x_test)\n",
    "random_forest.score(x_train, y_train)\n",
    "\n",
    "acc_random_forest_train = round(random_forest.score(x_train, y_train) * 100, 2)\n",
    "print(\"Train accuracy: \",acc_random_forest_train)\n",
    "\n",
    "acc_random_forest_test = round(random_forest.score(x_test,y_test) * 100, 2)\n",
    "print(\"Test accuracy: \",acc_random_forest_test)"
   ]
  },
  {
   "cell_type": "markdown",
   "metadata": {},
   "source": [
    "### Logistic Regression"
   ]
  },
  {
   "cell_type": "code",
   "execution_count": 18,
   "metadata": {
    "scrolled": true
   },
   "outputs": [
    {
     "name": "stdout",
     "output_type": "stream",
     "text": [
      "Train accuracy:  61.15\n",
      "Test accuracy:  59.98\n"
     ]
    }
   ],
   "source": [
    "logreg = LogisticRegression()\n",
    "logreg.fit(x_train, y_train)\n",
    "y_pred_log = logreg.predict(x_test)\n",
    "\n",
    "acc_log_train = round(logreg.score(x_train, y_train) * 100, 2)\n",
    "print(\"Train accuracy: \",acc_log_train)\n",
    "\n",
    "acc_log_test = round(logreg.score(x_test,y_test) * 100, 2)\n",
    "print(\"Test accuracy: \",acc_log_test)"
   ]
  },
  {
   "cell_type": "markdown",
   "metadata": {},
   "source": [
    "### Support Vector Machines"
   ]
  },
  {
   "cell_type": "code",
   "execution_count": 19,
   "metadata": {
    "scrolled": true
   },
   "outputs": [
    {
     "name": "stdout",
     "output_type": "stream",
     "text": [
      "Train accuracy:  89.37\n",
      "Test accuracy:  76.69\n"
     ]
    }
   ],
   "source": [
    "svc = SVC()\n",
    "svc.fit(x_train, y_train)\n",
    "y_pred_svm = svc.predict(x_test)\n",
    "\n",
    "acc_svc_train = round(svc.score(x_train, y_train) * 100, 2)\n",
    "print(\"Train accuracy: \",acc_svc_train)\n",
    "\n",
    "acc_svc_test = round(svc.score(x_test,y_test) * 100, 2)\n",
    "print(\"Test accuracy: \",acc_svc_test)"
   ]
  },
  {
   "cell_type": "markdown",
   "metadata": {},
   "source": [
    "### kNN"
   ]
  },
  {
   "cell_type": "code",
   "execution_count": 20,
   "metadata": {
    "scrolled": true
   },
   "outputs": [
    {
     "name": "stdout",
     "output_type": "stream",
     "text": [
      "Training accuracy for kNN:  88.91\n",
      "Test accuracy for kNN:  76.72\n"
     ]
    }
   ],
   "source": [
    "knn = KNeighborsClassifier(n_neighbors = 3)\n",
    "knn.fit(x_train, y_train)\n",
    "y_pred = knn.predict(x_test)\n",
    "acc_knn = round(knn.score(x_train, y_train) * 100, 2)\n",
    "print('Training accuracy for kNN: ',acc_knn)\n",
    "acc_knn = round(knn.score(x_test, y_test) * 100, 2)\n",
    "print('Test accuracy for kNN: ',acc_knn)"
   ]
  },
  {
   "cell_type": "markdown",
   "metadata": {},
   "source": [
    "### Perceptron"
   ]
  },
  {
   "cell_type": "code",
   "execution_count": 182,
   "metadata": {},
   "outputs": [
    {
     "name": "stdout",
     "output_type": "stream",
     "text": [
      "Training accuracy for kNN:  61.15\n",
      "Test accuracy for kNN:  61.15\n"
     ]
    },
    {
     "name": "stderr",
     "output_type": "stream",
     "text": [
      "C:\\Anaconda\\envs\\Data-X\\lib\\site-packages\\sklearn\\utils\\validation.py:526: DataConversionWarning: A column-vector y was passed when a 1d array was expected. Please change the shape of y to (n_samples, ), for example using ravel().\n",
      "  y = column_or_1d(y, warn=True)\n"
     ]
    }
   ],
   "source": [
    "from sklearn.linear_model import Perceptron\n",
    "\n",
    "ppn = Perceptron(n_iter=40, eta0=0.01, random_state=100)\n",
    "y_pred = ppn.fit(x_train, y_train).predict(x_test)\n",
    "\n",
    "acc_ppn = round(ppn.score(x_train, y_train) * 100, 2)\n",
    "print('Training accuracy for kNN: ',acc_ppn)\n",
    "acc_ppnn = round(ppn.score(x_test, y_test) * 100, 2)\n",
    "print('Test accuracy for kNN: ',acc_ppn)"
   ]
  },
  {
   "cell_type": "code",
   "execution_count": null,
   "metadata": {
    "collapsed": true
   },
   "outputs": [],
   "source": []
  }
 ],
 "metadata": {
  "kernelspec": {
   "display_name": "Python 3",
   "language": "python",
   "name": "python3"
  },
  "language_info": {
   "codemirror_mode": {
    "name": "ipython",
    "version": 3
   },
   "file_extension": ".py",
   "mimetype": "text/x-python",
   "name": "python",
   "nbconvert_exporter": "python",
   "pygments_lexer": "ipython3",
   "version": "3.6.5"
  }
 },
 "nbformat": 4,
 "nbformat_minor": 2
}
